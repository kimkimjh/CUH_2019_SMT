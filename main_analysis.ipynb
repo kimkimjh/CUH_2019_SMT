{
 "cells": [
  {
   "cell_type": "code",
   "execution_count": null,
   "id": "1a197505",
   "metadata": {},
   "outputs": [],
   "source": [
    "import qiime2\n",
    "from qiime2.plugins import demux, dada2, deblur, quality_filter, \\\n",
    "                           metadata, feature_table, alignment, \\\n",
    "                           phylogeny, diversity, emperor, feature_classifier, \\\n",
    "                           taxa, composition, picrust2\n",
    "\n",
    "import time"
   ]
  },
  {
   "cell_type": "markdown",
   "id": "b6ba6f23",
   "metadata": {},
   "source": [
    "## FASTQ"
   ]
  },
  {
   "cell_type": "code",
   "execution_count": null,
   "id": "95d22d1a",
   "metadata": {},
   "outputs": [],
   "source": [
    "!qiime tools import \\\n",
    "  --type 'SampleData[PairedEndSequencesWithQuality]' \\\n",
    "  --input-path './manifest.txt' \\\n",
    "  --output-path './paired-end-demux.qza' \\\n",
    "  --input-format PairedEndFastqManifestPhred33V2"
   ]
  },
  {
   "cell_type": "markdown",
   "id": "b04f63cd",
   "metadata": {},
   "source": [
    "## Cutadapt"
   ]
  },
  {
   "cell_type": "code",
   "execution_count": null,
   "id": "07323a1f",
   "metadata": {},
   "outputs": [],
   "source": [
    "start = time.time()\n",
    "\n",
    "!qiime cutadapt trim-paired \\\n",
    "    --i-demultiplexed-sequences paired-end-demux.qza \\\n",
    "    --p-cores 12 \\\n",
    "    --p-front-f GTGCCAGCMGCCGCGGTAA \\\n",
    "    --p-front-r GGACTACHVGGGTWTCTAAT \\\n",
    "    --p-match-adapter-wildcards \\\n",
    "    --p-discard-untrimmed \\\n",
    "    --o-trimmed-sequences paired-end-demux-trimmed.qza \n",
    "\n",
    "print(time.time()-start)"
   ]
  },
  {
   "cell_type": "code",
   "execution_count": null,
   "id": "47919f74",
   "metadata": {},
   "outputs": [],
   "source": [
    "!qiime demux summarize --i-data paired-end-demux-trimmed.qza --p-n 30000 --o-visualization paired-end-demux-trimmed.qzv"
   ]
  },
  {
   "cell_type": "markdown",
   "id": "6c58bc3b",
   "metadata": {},
   "source": [
    "## 3. DADA2"
   ]
  },
  {
   "cell_type": "code",
   "execution_count": null,
   "id": "54ee8299",
   "metadata": {},
   "outputs": [],
   "source": [
    "start = time.time()\n",
    "\n",
    "!qiime dada2 denoise-paired \\\n",
    " --i-demultiplexed-seqs paired-end-demux-trimmed.qza \\\n",
    " --p-trunc-len-f 188 \\\n",
    " --p-trunc-len-r 218 \\\n",
    " --p-trim-left-f 0 \\\n",
    " --p-trim-left-r 0 \\\n",
    " --p-n-threads 12 \\\n",
    " --o-table denoised-sequences-table.qza \\\n",
    " --o-representative-sequences denoised-sequences-repseq.qza \\\n",
    " --o-denoising-stats denoised-sequences-stats.qza\n",
    "\n",
    "print(time.time()-start)"
   ]
  },
  {
   "cell_type": "code",
   "execution_count": null,
   "id": "9f9875bf",
   "metadata": {},
   "outputs": [],
   "source": [
    "denoised_sequences_table = qiime2.Artifact.load('denoised-sequences-table.qza')\n",
    "denoised_sequences_table_vis = feature_table.visualizers.summarize(denoised_sequences_table)\n",
    "denoised_sequences_table_vis.visualization.save('denoised-sequences-table.qzv')\n",
    "\n",
    "denoised_sequences_repseq = qiime2.Artifact.load('denoised-sequences-repseq.qza')\n",
    "denoised_sequences_repseq_vis = metadata.visualizers.tabulate(denoised_sequences_repseq.view(qiime2.Metadata))\n",
    "denoised_sequences_repseq_vis.visualization.save('denoised-sequences-repseq.qzv')\n",
    "\n",
    "denoised_sequences_stats = qiime2.Artifact.load('denoised-sequences-stats.qza')\n",
    "denoised_sequences_stats_vis = metadata.visualizers.tabulate(denoised_sequences_stats.view(qiime2.Metadata))\n",
    "denoised_sequences_stats_vis.visualization.save('denoised-sequences-stats.qzv')"
   ]
  },
  {
   "cell_type": "markdown",
   "id": "99c548d7",
   "metadata": {},
   "source": [
    "## Feature Classifier"
   ]
  },
  {
   "cell_type": "code",
   "execution_count": null,
   "id": "fc2d54f1",
   "metadata": {},
   "outputs": [],
   "source": [
    "#! wget -O \"./silva-full-length.qza\" \"https://data.qiime2.org/2021.8/common/silva-138-99-seqs.qza\"\n",
    "#! wget -O \"./silva-full-length-taxonomy.qza\" \"https://data.qiime2.org/2021.8/common/silva-138-99-tax.qza\""
   ]
  },
  {
   "cell_type": "code",
   "execution_count": null,
   "id": "c27fc7c1",
   "metadata": {},
   "outputs": [],
   "source": [
    "! qiime feature-classifier extract-reads \\\n",
    "  --i-sequences 'silva-full-length.qza' \\\n",
    "  --p-f-primer GTGCCAGCMGCCGCGGTAA \\\n",
    "  --p-r-primer GGACTACHVGGGTWTCTAAT \\\n",
    "  --p-min-length 100 \\\n",
    "  --p-max-length 400 \\\n",
    "  --p-n-jobs 24 \\\n",
    "  --o-reads 'silva-extract-reads.qza'"
   ]
  },
  {
   "cell_type": "code",
   "execution_count": null,
   "id": "cff0a65d",
   "metadata": {},
   "outputs": [],
   "source": [
    "! qiime feature-classifier fit-classifier-naive-bayes \\\n",
    "  --i-reference-reads 'silva-extract-reads.qza' \\\n",
    "  --i-reference-taxonomy 'silva-full-length-taxonomy.qza' \\\n",
    "  --o-classifier 'silva-based-own-classifier.qza'"
   ]
  },
  {
   "cell_type": "code",
   "execution_count": null,
   "id": "e571f5c3",
   "metadata": {},
   "outputs": [],
   "source": [
    "!qiime feature-classifier classify-sklearn \\\n",
    " --i-reads denoised-sequences-repseq.qza \\\n",
    " --i-classifier silva-based-own-classifier.qza \\\n",
    " --p-n-jobs 24 \\\n",
    " --o-classification taxonomy-based-own-classifier.qza"
   ]
  },
  {
   "cell_type": "code",
   "execution_count": null,
   "id": "c4bcbfdd",
   "metadata": {},
   "outputs": [],
   "source": [
    "taxonomy_classification = qiime2.Artifact.load('./taxonomy-based-own-classifier.qza')\n",
    "taxonomy_classification_vis = metadata.visualizers.tabulate(taxonomy_classification.view(qiime2.Metadata))\n",
    "#taxonomy_classification_vis.visualization"
   ]
  },
  {
   "cell_type": "code",
   "execution_count": null,
   "id": "7e050e8b",
   "metadata": {},
   "outputs": [],
   "source": [
    "!qiime taxa collapse \\\n",
    "  --i-table denoised-sequences-table.qza \\\n",
    "  --i-taxonomy taxonomy-based-own-classifier.qza \\\n",
    "  --p-level 2 \\\n",
    "  --o-collapsed-table phylum-table.qza \n",
    "\n",
    "!qiime feature-table relative-frequency \\\n",
    "  --i-table phylum-table.qza \\\n",
    "  --o-relative-frequency-table rel-phylum-table.qza\n",
    "\n",
    "!qiime tools export --input-path './rel-phylum-table.qza' --output-path './'\n",
    "!biom convert -i feature-table.biom -o rel-phylum-table.tsv --to-tsv"
   ]
  },
  {
   "cell_type": "code",
   "execution_count": null,
   "id": "832c5a8e",
   "metadata": {},
   "outputs": [],
   "source": [
    "!qiime taxa collapse \\\n",
    "  --i-table denoised-sequences-table.qza \\\n",
    "  --i-taxonomy taxonomy-based-own-classifier.qza \\\n",
    "  --p-level 5 \\\n",
    "  --o-collapsed-table family-table.qza \n",
    "\n",
    "!qiime feature-table relative-frequency \\\n",
    "  --i-table family-table.qza \\\n",
    "  --o-relative-frequency-table rel-family-table.qza\n",
    "\n",
    "!qiime tools export --input-path './rel-family-table.qza' --output-path './'\n",
    "!biom convert -i feature-table.biom -o rel-family-table.tsv --to-tsv"
   ]
  },
  {
   "cell_type": "code",
   "execution_count": null,
   "id": "44885389",
   "metadata": {},
   "outputs": [],
   "source": [
    "!qiime taxa collapse \\\n",
    "  --i-table denoised-sequences-table.qza \\\n",
    "  --i-taxonomy taxonomy-based-own-classifier.qza \\\n",
    "  --p-level 6 \\\n",
    "  --o-collapsed-table genus-table.qza \n",
    "\n",
    "!qiime feature-table relative-frequency \\\n",
    "  --i-table genus-table.qza \\\n",
    "  --o-relative-frequency-table rel-genus-table.qza\n",
    "\n",
    "!qiime tools export --input-path './rel-genus-table.qza' --output-path './'\n",
    "!biom convert -i feature-table.biom -o rel-genus-table.tsv --to-tsv"
   ]
  },
  {
   "cell_type": "code",
   "execution_count": null,
   "id": "0f25633f",
   "metadata": {},
   "outputs": [],
   "source": [
    "table = qiime2.Artifact.load('denoised-sequences-table.qza')\n",
    "sample_metadata = qiime2.Metadata.load('metadata.txt')\n",
    "taxonomy_classification = qiime2.Artifact.load('./taxonomy-based-own-classifier.qza')\n",
    "\n",
    "taxa_bar_plot = taxa.visualizers.barplot(table, taxonomy_classification, sample_metadata)"
   ]
  },
  {
   "cell_type": "code",
   "execution_count": null,
   "id": "accb14ba",
   "metadata": {},
   "outputs": [],
   "source": [
    "!qiime taxa barplot \\\n",
    "  --i-table denoised-sequences-table.qza \\\n",
    "  --i-taxonomy taxonomy-based-own-classifier.qza \\\n",
    "  --m-metadata-file metadata.txt \\\n",
    "  --o-visualization taxa-bar-plots.qzv"
   ]
  },
  {
   "cell_type": "markdown",
   "id": "021ba9a0",
   "metadata": {},
   "source": [
    "## Diversity"
   ]
  },
  {
   "cell_type": "code",
   "execution_count": null,
   "id": "f50cf813",
   "metadata": {},
   "outputs": [],
   "source": [
    "representative_sequences = qiime2.Artifact.load('denoised-sequences-repseq.qza')\n",
    "rooted_tree = phylogeny.pipelines.align_to_tree_mafft_fasttree(representative_sequences)\n",
    "rooted_tree.rooted_tree.save('rooted-tree.qza')"
   ]
  },
  {
   "cell_type": "markdown",
   "id": "a3f4e7b1",
   "metadata": {},
   "source": [
    "#### Alpha-rarefaction"
   ]
  },
  {
   "cell_type": "code",
   "execution_count": null,
   "id": "eed09b94",
   "metadata": {},
   "outputs": [],
   "source": [
    "!qiime diversity alpha-rarefaction \\\n",
    "    --i-table denoised-sequences-table.qza \\\n",
    "    --i-phylogeny rooted-tree.qza \\\n",
    "    --p-max-depth 31895 \\\n",
    "    --m-metadata-file metadata.txt \\\n",
    "    --o-visualization alpha-rarefaction.qzv"
   ]
  },
  {
   "cell_type": "markdown",
   "id": "9cb17fb2",
   "metadata": {},
   "source": [
    "#### Diversity metrics"
   ]
  },
  {
   "cell_type": "code",
   "execution_count": null,
   "id": "6a7eb646",
   "metadata": {},
   "outputs": [],
   "source": [
    "!qiime diversity core-metrics-phylogenetic \\\n",
    "    --i-table denoised-sequences-table.qza \\\n",
    "    --i-phylogeny rooted-tree.qza \\\n",
    "    --p-sampling-depth 31895 \\\n",
    "    --m-metadata-file metadata.txt \\\n",
    "    --output-dir core-metrics-results"
   ]
  },
  {
   "cell_type": "markdown",
   "id": "9071483a",
   "metadata": {},
   "source": [
    "## q2longitudinal pairwise-differences: alpha diversity metrics\n",
    "### shannon, observed-features, faith-pd, pielou-evenness"
   ]
  },
  {
   "cell_type": "code",
   "execution_count": null,
   "id": "1ec995fa",
   "metadata": {},
   "outputs": [],
   "source": [
    "!qiime longitudinal pairwise-differences \\\n",
    "  --i-table rel-genus-table.qza --m-metadata-file './metadata.txt' \\\n",
    "  --m-metadata-file ./core-metrics-results/shannon_vector.qza \\\n",
    "  --p-metric shannon_entropy --p-state-column timepoint \\\n",
    "  --p-state-1 baseline \\\n",
    "  --p-state-2 18month \\\n",
    "  --p-individual-id-column usubjid \\\n",
    "  --p-group-column group \\\n",
    "  --o-visualization ./longitudinal/pairwise-differences-shannon.qzv"
   ]
  },
  {
   "cell_type": "code",
   "execution_count": null,
   "id": "c27c522f",
   "metadata": {},
   "outputs": [],
   "source": [
    "pairwise_diff_shannon = qiime2.Visualization.load('./longitudinal/pairwise-differences-shannon.qzv')\n",
    "#pairwise_diff_shannon"
   ]
  },
  {
   "cell_type": "code",
   "execution_count": null,
   "id": "c1871412",
   "metadata": {},
   "outputs": [],
   "source": [
    "!qiime longitudinal pairwise-differences \\\n",
    "  --i-table rel-genus-table.qza --m-metadata-file './metadata.txt' \\\n",
    "  --m-metadata-file ./core-metrics-results/observed_features_vector.qza \\\n",
    "  --p-metric observed_features --p-state-column timepoint \\\n",
    "  --p-state-1 baseline \\\n",
    "  --p-state-2 18month \\\n",
    "  --p-individual-id-column usubjid \\\n",
    "  --p-group-column group \\\n",
    "  --o-visualization ./longitudinal/pairwise-differences-observed-features.qzv"
   ]
  },
  {
   "cell_type": "code",
   "execution_count": null,
   "id": "72cdc0fd",
   "metadata": {},
   "outputs": [],
   "source": [
    "pairwise_diff_observed_features = qiime2.Visualization.load('./longitudinal/pairwise-differences-observed-features.qzv')\n",
    "#pairwise_diff_observed_features"
   ]
  },
  {
   "cell_type": "code",
   "execution_count": null,
   "id": "734caa77",
   "metadata": {},
   "outputs": [],
   "source": [
    "!qiime longitudinal pairwise-differences \\\n",
    "  --i-table rel-genus-table.qza --m-metadata-file './metadata.txt' \\\n",
    "  --m-metadata-file ./core-metrics-results/faith_pd_vector.qza \\\n",
    "  --p-metric faith_pd --p-state-column timepoint \\\n",
    "  --p-state-1 baseline \\\n",
    "  --p-state-2 18month \\\n",
    "  --p-individual-id-column usubjid \\\n",
    "  --p-group-column group \\\n",
    "  --o-visualization ./longitudinal/pairwise-differences-faith.qzv"
   ]
  },
  {
   "cell_type": "code",
   "execution_count": null,
   "id": "14eadac5",
   "metadata": {},
   "outputs": [],
   "source": [
    "pairwise_diff_faith = qiime2.Visualization.load('./longitudinal/pairwise-differences-faith.qzv')\n",
    "#pairwise_diff_faith"
   ]
  },
  {
   "cell_type": "code",
   "execution_count": null,
   "id": "f06d08ec",
   "metadata": {},
   "outputs": [],
   "source": [
    "!qiime longitudinal pairwise-differences \\\n",
    "  --i-table rel-genus-table.qza --m-metadata-file './metadata.txt' \\\n",
    "  --m-metadata-file ./core-metrics-results/evenness_vector.qza \\\n",
    "  --p-metric pielou_evenness --p-state-column timepoint \\\n",
    "  --p-state-1 baseline \\\n",
    "  --p-state-2 18month \\\n",
    "  --p-individual-id-column usubjid \\\n",
    "  --p-group-column group \\\n",
    "  --o-visualization ./longitudinal/pairwise-differences-evenness.qzv"
   ]
  },
  {
   "cell_type": "code",
   "execution_count": null,
   "id": "a2bca219",
   "metadata": {},
   "outputs": [],
   "source": [
    "pairwise_diff_evenness = qiime2.Visualization.load('./longitudinal/pairwise-differences-evenness.qzv')\n",
    "#pairwise_diff_evenness"
   ]
  },
  {
   "cell_type": "markdown",
   "id": "5644b1e5",
   "metadata": {},
   "source": [
    "## q2longitudinal pairwise-distances: beta diversity metrics"
   ]
  },
  {
   "cell_type": "code",
   "execution_count": null,
   "id": "533a47cf",
   "metadata": {},
   "outputs": [],
   "source": [
    "!qiime longitudinal pairwise-distances \\\n",
    "  --i-distance-matrix ./core-metrics-results/unweighted_unifrac_distance_matrix.qza \\\n",
    "  --m-metadata-file './metadata.txt' \\\n",
    "  --p-state-column timepoint \\\n",
    "  --p-state-1 baseline \\\n",
    "  --p-state-2 18month \\\n",
    "  --p-individual-id-column usubjid \\\n",
    "  --p-group-column group \\\n",
    "  --o-visualization ./longitudinal/pairwise-distances-unweighted-unifrac.qzv"
   ]
  },
  {
   "cell_type": "code",
   "execution_count": null,
   "id": "545bf780",
   "metadata": {},
   "outputs": [],
   "source": [
    "pairwise_dist_uu = qiime2.Visualization.load('./longitudinal/pairwise-distances-unweighted-unifrac.qzv')\n",
    "#pairwise_dist_uu"
   ]
  },
  {
   "cell_type": "code",
   "execution_count": null,
   "id": "792e1bcd",
   "metadata": {},
   "outputs": [],
   "source": [
    "!qiime longitudinal pairwise-distances \\\n",
    "  --i-distance-matrix ./core-metrics-results/weighted_unifrac_distance_matrix.qza \\\n",
    "  --m-metadata-file './metadata.txt' \\\n",
    "  --p-state-column timepoint \\\n",
    "  --p-state-1 baseline \\\n",
    "  --p-state-2 18month \\\n",
    "  --p-individual-id-column usubjid \\\n",
    "  --p-group-column group \\\n",
    "  --o-visualization ./longitudinal/pairwise-distances-weighted-unifrac.qzv"
   ]
  },
  {
   "cell_type": "code",
   "execution_count": null,
   "id": "e38c170c",
   "metadata": {},
   "outputs": [],
   "source": [
    "pairwise_dist_wu = qiime2.Visualization.load('./longitudinal/pairwise-distances-weighted-unifrac.qzv')\n",
    "#pairwise_dist_wu"
   ]
  },
  {
   "cell_type": "markdown",
   "id": "a03af766",
   "metadata": {},
   "source": [
    "## q2-PICRUSt2\n",
    "- Run PICRUSt2 within QIIME 2 environment. \n",
    "- https://library.qiime2.org/plugins/q2-picrust2/13/"
   ]
  },
  {
   "cell_type": "code",
   "execution_count": null,
   "id": "96b8322b",
   "metadata": {},
   "outputs": [],
   "source": [
    "!qiime picrust2 full-pipeline \\\n",
    "  --i-table ./denoised-sequences-table.qza \\ # FeatureTable[Frequency]\n",
    "  --i-seq ./denoised-sequences-repseq.qza \\ # FeatureData[Sequence]\n",
    "  --p-threads 12 \\\n",
    "  --o-ko-metagenome ./picrust2/ko-metagenome.qza \\\n",
    "  --o-ec-metagenome ./picrust2/ec-metagenome.qza \\\n",
    "  --o-pathway-abundance ./picrust2/path-abundance.qza "
   ]
  },
  {
   "cell_type": "code",
   "execution_count": null,
   "id": "d4a8a24b",
   "metadata": {},
   "outputs": [],
   "source": [
    "!qiime feature-table summarize \\\n",
    "   --i-table ./picrust2/path-abundance.qza \\\n",
    "   --o-visualization ./picrust2/path-abundance.qzv"
   ]
  },
  {
   "cell_type": "code",
   "execution_count": null,
   "id": "56583eb1",
   "metadata": {},
   "outputs": [],
   "source": [
    "pathway = qiime2.Visualization.load('./picrust2/path-abundance.qzv') # min 1914400\n",
    "#pathway"
   ]
  },
  {
   "cell_type": "code",
   "execution_count": null,
   "id": "6830827f",
   "metadata": {},
   "outputs": [],
   "source": [
    "!qiime diversity core-metrics \\\n",
    "    --i-table picrust2/path-abundance.qza \\\n",
    "    --p-sampling-depth 1914400 \\\n",
    "    --m-metadata-file metadata.txt \\\n",
    "    --output-dir picrust2/pathabun-core-metrics-results \\\n",
    "    --p-n-jobs 'auto'"
   ]
  },
  {
   "cell_type": "code",
   "execution_count": null,
   "id": "f5f4c71e",
   "metadata": {},
   "outputs": [],
   "source": [
    "!qiime longitudinal pairwise-distances \\\n",
    "  --i-distance-matrix ./picrust2/pathabun-core-metrics-results/bray_curtis_distance_matrix.qza \\\n",
    "  --m-metadata-file './metadata.txt' \\\n",
    "  --p-state-column timepoint \\\n",
    "  --p-state-1 baseline \\\n",
    "  --p-state-2 18month \\\n",
    "  --p-individual-id-column usubjid \\\n",
    "  --p-group-column group \\\n",
    "  --o-visualization ./picrust2/longitudinal/pairwise-distances-bray-curtis.qzv"
   ]
  },
  {
   "cell_type": "code",
   "execution_count": null,
   "id": "5c41c137",
   "metadata": {},
   "outputs": [],
   "source": [
    "pairwise_dist_bray_curtis = qiime2.Visualization.load('./picrust2/longitudinal/pairwise-distances-bray-curtis.qzv')\n",
    "#pairwise_dist_bray_curtis"
   ]
  },
  {
   "cell_type": "markdown",
   "id": "87c30f58",
   "metadata": {},
   "source": [
    "## PICRUSt2 full pipeline\n",
    "- Prepare input FASTA and BIOM files to run picrust2_pipeline.py"
   ]
  },
  {
   "cell_type": "code",
   "execution_count": null,
   "id": "e3e990b7",
   "metadata": {},
   "outputs": [],
   "source": [
    "## FASTA file for picrust2_pipeline.py\n",
    "!qiime tools export \\\n",
    "   --input-path ./denoised-sequences-repseq.qza \\\n",
    "   --output-path ./picrust2/ \n",
    "#This generates 'dna-sequences.fasta' file"
   ]
  },
  {
   "cell_type": "code",
   "execution_count": null,
   "id": "a5d49bec",
   "metadata": {},
   "outputs": [],
   "source": [
    "## biom file for picrust2_pipeline.py\n",
    "!qiime tools export \\\n",
    "   --input-path ./denoised-sequences-table.qza \\\n",
    "   --output-path ./picrust2/ \n",
    "\n",
    "!biom convert \\\n",
    "-i ./picrust2/feature-table.biom \\\n",
    "  -o ./picrust2/feature-table.tsv \\\n",
    "  --to-tsv"
   ]
  },
  {
   "cell_type": "code",
   "execution_count": null,
   "id": "11923e7c",
   "metadata": {},
   "outputs": [],
   "source": [
    "## Install PICRUSt2 conda environment and run the below query\n",
    "# picrust2_pipeline.py -s dna-sequences.fasta -i feature-table.biom -o picrust2_out_pipeline -p 12"
   ]
  }
 ],
 "metadata": {
  "kernelspec": {
   "display_name": "python (qiime2)",
   "language": "python",
   "name": "qiime2"
  },
  "language_info": {
   "codemirror_mode": {
    "name": "ipython",
    "version": 3
   },
   "file_extension": ".py",
   "mimetype": "text/x-python",
   "name": "python",
   "nbconvert_exporter": "python",
   "pygments_lexer": "ipython3",
   "version": "3.8.10"
  }
 },
 "nbformat": 4,
 "nbformat_minor": 5
}
